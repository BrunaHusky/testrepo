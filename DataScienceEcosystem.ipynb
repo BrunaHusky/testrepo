{
 "cells": [
  {
   "cell_type": "markdown",
   "id": "08062286-e7a2-4fb4-bd32-8d3ee86bf0fe",
   "metadata": {},
   "source": [
    "# Data Science Tools and Ecosystem \n",
    "Este es el contenido de la celda de Markdown."
   ]
  },
  {
   "cell_type": "markdown",
   "id": "d89e8070-716c-47b8-bae7-eff8f5e742ed",
   "metadata": {},
   "source": [
    "# Introduction\n",
    "\n",
    "In this notebook, Data Science Tools and Ecosystem are summarized.\n"
   ]
  },
  {
   "cell_type": "markdown",
   "id": "1e513476-185e-4630-b038-dc54f671e8c3",
   "metadata": {},
   "source": [
    "**Objectives:**\n",
    "\n",
    "- Languages for Data Science\n",
    "- Libraries used by Data Scientists\n",
    "- Tools for Data Science\n",
    "- Examples of basic arithmetic operations in Python\n"
   ]
  },
  {
   "cell_type": "markdown",
   "id": "201ca78d-a320-41a6-a042-f1d128cc2598",
   "metadata": {},
   "source": [
    "# Data Science Languages\n",
    "\n",
    "Some of the popular languages that Data Scientists use are:\n",
    "\n",
    "1. Python\n",
    "2. R\n",
    "3. SQL\n",
    "4. Java"
   ]
  },
  {
   "cell_type": "markdown",
   "id": "25b2477d-8c06-4626-8ec1-4cf6a4930aea",
   "metadata": {},
   "source": [
    "# Data Science Libraries\n",
    "\n",
    "Some of the commonly used libraries used by Data Scientists include:\n",
    "\n",
    "1. NumPy\n",
    "2. Pandas\n",
    "3. Matplotlib"
   ]
  },
  {
   "cell_type": "markdown",
   "id": "25c39ca3-33e5-4902-b16a-2bf945cd37b0",
   "metadata": {},
   "source": [
    "# Data Science Tools\n",
    "\n",
    "| Data Science Tools        |\n",
    "|---------------------------|\n",
    "| Visual Studio Code        |\n",
    "| RStudio                   |\n",
    "| Anaconda                  |"
   ]
  },
  {
   "cell_type": "markdown",
   "id": "714f2243-c535-4148-a9eb-a878388f1b48",
   "metadata": {},
   "source": [
    "### Below are a few examples of evaluating arithmetic expressions in Python."
   ]
  },
  {
   "cell_type": "code",
   "execution_count": 8,
   "id": "e1ce4079-7bad-4f9a-ae59-819f35d72db8",
   "metadata": {},
   "outputs": [
    {
     "data": {
      "text/plain": [
       "17"
      ]
     },
     "execution_count": 8,
     "metadata": {},
     "output_type": "execute_result"
    }
   ],
   "source": [
    "# This a simple arithmetic expression to multiply then add integers\n",
    "(3*4)+5"
   ]
  },
  {
   "cell_type": "code",
   "execution_count": 12,
   "id": "386e7909-944f-47bd-af92-587fd5483037",
   "metadata": {},
   "outputs": [
    {
     "name": "stdout",
     "output_type": "stream",
     "text": [
      "3.3333333333333335\n"
     ]
    }
   ],
   "source": [
    "# Esto convertirá 200 minutos a horas dividiendo por 60\n",
    "hours = 200 / 60\n",
    "print(hours)\n"
   ]
  },
  {
   "cell_type": "markdown",
   "id": "e89aab79-19ee-4862-9baf-99a2f13c0af1",
   "metadata": {},
   "source": [
    "## Author\n",
    "\n",
    "Marga Pastor\n"
   ]
  }
 ],
 "metadata": {
  "kernelspec": {
   "display_name": "Python 3 (ipykernel)",
   "language": "python",
   "name": "python3"
  },
  "language_info": {
   "codemirror_mode": {
    "name": "ipython",
    "version": 3
   },
   "file_extension": ".py",
   "mimetype": "text/x-python",
   "name": "python",
   "nbconvert_exporter": "python",
   "pygments_lexer": "ipython3",
   "version": "3.12.6"
  }
 },
 "nbformat": 4,
 "nbformat_minor": 5
}
